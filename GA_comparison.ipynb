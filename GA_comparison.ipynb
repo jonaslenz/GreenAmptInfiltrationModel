{
 "cells": [
  {
   "cell_type": "markdown",
   "metadata": {},
   "source": [
    "# comparison of Green-Ampt approaches\n",
    "\n",
    "- landlab component\n",
    "\n",
    "and\n",
    "\n",
    "- Green-Ampt by Peishi Jiang (https://github.com/csdms-contrib/GreenAmptInfiltrationModel/blob/master/GreenAmpt.py)"
   ]
  },
  {
   "cell_type": "markdown",
   "metadata": {},
   "source": [
    "## import both models\n",
    "(GreenAmpt is forked and made compatible to python 3)"
   ]
  },
  {
   "cell_type": "code",
   "execution_count": 1,
   "metadata": {},
   "outputs": [],
   "source": [
    "import numpy as np\n",
    "from matplotlib import pyplot as plt\n",
    "from landlab import RasterModelGrid\n",
    "from landlab.components import SoilInfiltrationGreenAmpt\n",
    "\n",
    "import GreenAmpt"
   ]
  },
  {
   "cell_type": "markdown",
   "metadata": {},
   "source": [
    "## set input values"
   ]
  },
  {
   "cell_type": "code",
   "execution_count": 2,
   "metadata": {},
   "outputs": [],
   "source": [
    "# intensity [m/s] (first value is intensity in mm/min, then converted)\n",
    "intens = 1 /1000 /60\n",
    "\n",
    "# matrix potential [m]\n",
    "psi = 0.25\n",
    "# hydraulic conductivity [m/s]\n",
    "ks = 0.000008\n",
    "# fraction of unfilled porevolume [-]\n",
    "delta_theta = 0.2557\n",
    "\n",
    "#set number of time steps\n",
    "steps = 120\n",
    "# length of time steps [s]\n",
    "dt = 60"
   ]
  },
  {
   "cell_type": "markdown",
   "metadata": {},
   "source": [
    "## run landlab component\n",
    "\n",
    "GA_landlab is the diff of soil water infiltration depth - this equals the infiltrated volume per timestep"
   ]
  },
  {
   "cell_type": "code",
   "execution_count": 3,
   "metadata": {},
   "outputs": [],
   "source": [
    "mg = RasterModelGrid((1,1), xy_spacing=1.)\n",
    "h = mg.add_zeros(\"surface_water__depth\", at=\"node\")\n",
    "d = mg.add_ones(\"soil_water_infiltration__depth\", at=\"node\", dtype=float)\n",
    "d *= 1e-8\n",
    "\n",
    "SI = SoilInfiltrationGreenAmpt(mg,hydraulic_conductivity=ks, wetting_front_capillary_pressure_head = psi)\n",
    "SI.moisture_deficit = delta_theta\n",
    "\n",
    "result = []\n",
    "for i in range(int(steps)+1):  \n",
    "\n",
    "#available water in timestep is intensity by timestep length\n",
    "  h += intens * dt\n",
    "  #print(h)\n",
    "#  SI._grid.at_node[\"soil_water_infiltration__depth\"] / SI._moisture_deficit\n",
    "  SI.run_one_step(dt)\n",
    "  result.append(mg.at_node['soil_water_infiltration__depth'][0])\n",
    "\n",
    "GA_landlab = np.diff(result)"
   ]
  },
  {
   "cell_type": "markdown",
   "metadata": {},
   "source": [
    "## run Green-Ampt by Peishi\n",
    "\n",
    "GA_Peishi is diff of infiltration depth according to GA_landlab\n",
    "\n",
    "unit conversion is done according to specification in documentation"
   ]
  },
  {
   "cell_type": "code",
   "execution_count": 4,
   "metadata": {},
   "outputs": [],
   "source": [
    "# convert [m/s] to [cm/h]\n",
    "K = ks * 100 * 3600\n",
    "\n",
    "# convert [m] to [cm]\n",
    "psi_cm = psi * 100\n",
    "\n",
    "# redefine delta theta\n",
    "di = 0.2; ds = di + delta_theta; \n",
    "\n",
    "# timestep length from [s] to [h]\n",
    "dt_h = dt/3600\n",
    "\n",
    "# create list with intensities over timesteps\n",
    "# convert [m/s] to [cm/h]\n",
    "i = [intens*100*3600] * int(steps)\n",
    "\n",
    "# run model\n",
    "a = GreenAmpt.GreenAmpt(K, dt_h, di, ds, psi_cm, i)\n",
    "F, f, t =a.F_f()\n",
    "\n",
    "# convert [cm] to [m]\n",
    "GA_Peishi = np.diff(F)/100"
   ]
  },
  {
   "cell_type": "markdown",
   "metadata": {},
   "source": [
    "## plot infiltration"
   ]
  },
  {
   "cell_type": "code",
   "execution_count": 5,
   "metadata": {},
   "outputs": [
    {
     "data": {
      "image/png": "[encoded data removed]",
      "text/plain": [
       "<Figure size 432x288 with 1 Axes>"
      ]
     },
     "metadata": {
      "needs_background": "light"
     },
     "output_type": "display_data"
    }
   ],
   "source": [
    "plt.plot(GA_Peishi, label ='Peishi')\n",
    "plt.plot(GA_landlab, label ='landlab')\n",
    "plt.legend()\n",
    "plt.ylabel('infilrate [m/timestep]')\n",
    "plt.xlabel('Number of timesteps')\n",
    "plt.title('Green Ampt infiltration (timestep = '+str(dt)+'s)')\n",
    "plt.show()"
   ]
  }
 ],
 "metadata": {
  "kernelspec": {
   "display_name": "Python 3",
   "language": "python",
   "name": "python3"
  },
  "language_info": {
   "codemirror_mode": {
    "name": "ipython",
    "version": 3
   },
   "file_extension": ".py",
   "mimetype": "text/x-python",
   "name": "python",
   "nbconvert_exporter": "python",
   "pygments_lexer": "ipython3",
   "version": "3.7.0"
  }
 },
 "nbformat": 4,
 "nbformat_minor": 4
}
